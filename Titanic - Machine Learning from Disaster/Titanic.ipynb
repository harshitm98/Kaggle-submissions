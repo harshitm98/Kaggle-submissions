{
 "cells": [
  {
   "cell_type": "markdown",
   "metadata": {},
   "source": [
    "# Titanic: Machine learning from disaster\n",
    "***\n",
    "This is a novice attempt to predict the survival on the Titanic. This is a part of my Kaggle submission. \n",
    "<br>[Link to the kaggle competition](https://www.kaggle.com/c/titanic/)\n",
    "<br>[Link to my Kaggle submission]()"
   ]
  },
  {
   "cell_type": "markdown",
   "metadata": {},
   "source": [
    "### Preprocessing"
   ]
  },
  {
   "cell_type": "code",
   "execution_count": 1,
   "metadata": {
    "collapsed": false
   },
   "outputs": [],
   "source": [
    "# Importing the libraries\n",
    "import numpy as np\n",
    "import matplotlib.pyplot as plt\n",
    "import pandas as pd\n",
    "\n",
    "# Changing the directory\n",
    "import os\n",
    "os.chdir('/Users/Ambika/Desktop/CS/Kaggle submissions/Titanic - Machine Learning from Disaster/')\n",
    "\n",
    "# Importing the dataset\n",
    "dataset = pd.read_csv('train.csv')\n",
    "X = dataset.iloc[:,[2,4,5,6,7,9,11]].values\n",
    "y = dataset.iloc[:,1].values\n",
    "                                            \n",
    "# Taking care of missing data\n",
    "from sklearn.preprocessing import Imputer\n",
    "imputer = Imputer(missing_values = 'NaN', strategy = 'mean', axis = 0)\n",
    "imputer = imputer.fit(X[:, 2:3])\n",
    "X[:, 2:3] = imputer.transform(X[:, 2:3])\n",
    "# Dealing with nan values in Port of embarktion\n",
    "for i in range(0, len(X[:,6])):\n",
    "    if X[i,6] not in ['C', 'S', 'Q']:\n",
    "        X[i,6] = 'Q'\n",
    "\n",
    "# Encoding the data\n",
    "from sklearn.preprocessing import LabelEncoder, OneHotEncoder\n",
    "labelencoder_X = LabelEncoder()\n",
    "X[:, 1] = labelencoder_X.fit_transform(X[:, 1])\n",
    "X[:, 6] = labelencoder_X.fit_transform(X[:, 6])\n",
    "onehotencoder = OneHotEncoder(categorical_features = [6])\n",
    "X = onehotencoder.fit_transform(X).toarray()\n",
    "X = X[:, 1:]\n",
    "\n",
    "# Splitting the dataset into the Training set and Test set\n",
    "from sklearn.model_selection import train_test_split\n",
    "X_train, X_test, y_train, y_test = train_test_split(X, y, test_size = 0.1)\n",
    "\n",
    "# Feature Scaling\n",
    "from sklearn.preprocessing import StandardScaler\n",
    "sc_X = StandardScaler()\n",
    "X_train = sc_X.fit_transform(X_train)\n",
    "X_test = sc_X.transform(X_test)"
   ]
  },
  {
   "cell_type": "markdown",
   "metadata": {
    "collapsed": true
   },
   "source": [
    "## Using KernalSVM to solve this classification problem"
   ]
  },
  {
   "cell_type": "code",
   "execution_count": 2,
   "metadata": {
    "collapsed": false
   },
   "outputs": [
    {
     "name": "stdout",
     "output_type": "stream",
     "text": [
      "[[50 10]\n",
      " [11 19]]\n",
      "             precision    recall  f1-score   support\n",
      "\n",
      "          0       0.82      0.83      0.83        60\n",
      "          1       0.66      0.63      0.64        30\n",
      "\n",
      "avg / total       0.76      0.77      0.77        90\n",
      "\n"
     ]
    }
   ],
   "source": [
    "# Applying kernel SVM\n",
    "from sklearn.svm import SVC\n",
    "classifier = SVC(C = 1, kernel = 'rbf', gamma = 0.1)\n",
    "classifier.fit(X_train, y_train)\n",
    "\n",
    "# Predicting the Test set results\n",
    "y_pred = classifier.predict(X_test)\n",
    "\n",
    "# Making the Confusion Matrix\n",
    "from sklearn.metrics import confusion_matrix,classification_report\n",
    "cm = confusion_matrix(y_test, y_pred)\n",
    "print(confusion_matrix(y_test,y_pred))\n",
    "print(classification_report(y_test,y_pred))"
   ]
  },
  {
   "cell_type": "markdown",
   "metadata": {},
   "source": [
    "## Cross Validation and Grid Search "
   ]
  },
  {
   "cell_type": "code",
   "execution_count": 3,
   "metadata": {
    "collapsed": false
   },
   "outputs": [
    {
     "name": "stdout",
     "output_type": "stream",
     "text": [
      "The best accuracy on training data with K-SVM is: 0.831460674157\n",
      "The best parameters on training data with K-SVM is: {'C': 10, 'gamma': 0.05, 'kernel': 'rbf'}\n"
     ]
    }
   ],
   "source": [
    "# Applying k-Fold Cross Validation\n",
    "from sklearn.model_selection import cross_val_score\n",
    "accuracies = cross_val_score(estimator = classifier, X = X_train, y = y_train, cv = 10)\n",
    "accuracies.mean()\n",
    "accuracies.std()\n",
    "\n",
    "# Applying Grid Search to find the best model and the best parameters\n",
    "from sklearn.model_selection import GridSearchCV\n",
    "parameters = [{'C': [1, 10, 100, 1000], 'kernel': ['rbf'], 'gamma': [0.1, 0.2, 0.05]}]\n",
    "grid_search = GridSearchCV(estimator = classifier,\n",
    "                           param_grid = parameters,\n",
    "                           scoring = 'accuracy',\n",
    "                           cv = 10)\n",
    "grid_search = grid_search.fit(X_train, y_train)\n",
    "best_accuracy = grid_search.best_score_\n",
    "best_parameters = grid_search.best_params_\n",
    "print(\"The best accuracy on training data with K-SVM is: \", end='')\n",
    "print(best_accuracy)\n",
    "print(\"The best parameters on training data with K-SVM is: \", end='')\n",
    "print(best_parameters)"
   ]
  },
  {
   "cell_type": "markdown",
   "metadata": {},
   "source": [
    "## Preprocessing the test data"
   ]
  },
  {
   "cell_type": "code",
   "execution_count": 4,
   "metadata": {
    "collapsed": true
   },
   "outputs": [],
   "source": [
    "# Validating on actual test set\n",
    "dataset_test = pd.read_csv('test.csv')\n",
    "X_real_test = dataset_test.iloc[:,[1,3,4,5,6,8,10]].values\n",
    "y_real_test = pd.read_csv('gender_submission.csv').iloc[:, 1].values\n",
    "\n",
    "# Preprocessing\n",
    "imputer = Imputer(missing_values = 'NaN', strategy = 'mean', axis = 0)\n",
    "imputer = imputer.fit(X_real_test[:, 2:3])\n",
    "X_real_test[:, 2:3] = imputer.transform(X_real_test[:, 2:3])\n",
    "for i in range(0, len(X_real_test[:,6])):\n",
    "    if X_real_test[i,6] not in ['C', 'S', 'Q']:\n",
    "        X_real_test[i,6] = 'Q'\n",
    "\n",
    "imputer = imputer.fit(X_real_test[:,[5]])\n",
    "X_real_test[:, [5]] = imputer.transform(X_real_test[:, [5]])\n",
    "labelencoder_X = LabelEncoder()\n",
    "X_real_test[:, 1] = labelencoder_X.fit_transform(X_real_test[:, 1])\n",
    "X_real_test[:, 6] = labelencoder_X.fit_transform(X_real_test[:, 6])\n",
    "onehotencoder = OneHotEncoder(categorical_features = [6])\n",
    "X_real_test = onehotencoder.fit_transform(X_real_test).toarray()\n",
    "X_real_test = X_real_test[:, 1:]\n",
    "sc_X = StandardScaler()\n",
    "X_real_test = sc_X.fit_transform(X_real_test)"
   ]
  },
  {
   "cell_type": "markdown",
   "metadata": {},
   "source": [
    "## Test data prediction using K-SVM"
   ]
  },
  {
   "cell_type": "code",
   "execution_count": 5,
   "metadata": {
    "collapsed": false
   },
   "outputs": [
    {
     "name": "stdout",
     "output_type": "stream",
     "text": [
      "[[256  10]\n",
      " [ 15 137]]\n",
      "             precision    recall  f1-score   support\n",
      "\n",
      "          0       0.94      0.96      0.95       266\n",
      "          1       0.93      0.90      0.92       152\n",
      "\n",
      "avg / total       0.94      0.94      0.94       418\n",
      "\n"
     ]
    }
   ],
   "source": [
    "y_actual_pred = classifier.predict(X_real_test)\n",
    "print(confusion_matrix(y_real_test, y_actual_pred))\n",
    "print(classification_report(y_real_test, y_actual_pred))"
   ]
  },
  {
   "cell_type": "markdown",
   "metadata": {},
   "source": [
    "## Test data prediction using Naive bayes"
   ]
  },
  {
   "cell_type": "code",
   "execution_count": 6,
   "metadata": {
    "collapsed": false
   },
   "outputs": [
    {
     "name": "stdout",
     "output_type": "stream",
     "text": [
      "[[243  23]\n",
      " [ 10 142]]\n",
      "             precision    recall  f1-score   support\n",
      "\n",
      "          0       0.96      0.91      0.94       266\n",
      "          1       0.86      0.93      0.90       152\n",
      "\n",
      "avg / total       0.92      0.92      0.92       418\n",
      "\n"
     ]
    }
   ],
   "source": [
    "from sklearn.naive_bayes import GaussianNB\n",
    "classifier = GaussianNB()\n",
    "classifier.fit(X_train, y_train)\n",
    "y_actual_pred = classifier.predict(X_real_test)\n",
    "print(confusion_matrix(y_real_test, y_actual_pred))\n",
    "print(classification_report(y_real_test, y_actual_pred))\n",
    "passenger_id = pd.read_csv('gender_submission.csv').iloc[:, 0].values\n",
    "submission = pd.DataFrame({'PassengerId': passenger_id, 'Survived': y_actual_pred})\n",
    "submission.to_csv('Submission.csv', index = False)"
   ]
  },
  {
   "cell_type": "markdown",
   "metadata": {},
   "source": [
    "## Test data prediction using Random forest"
   ]
  },
  {
   "cell_type": "code",
   "execution_count": 7,
   "metadata": {
    "collapsed": false
   },
   "outputs": [
    {
     "name": "stdout",
     "output_type": "stream",
     "text": [
      "[[243  23]\n",
      " [ 43 109]]\n",
      "             precision    recall  f1-score   support\n",
      "\n",
      "          0       0.85      0.91      0.88       266\n",
      "          1       0.83      0.72      0.77       152\n",
      "\n",
      "avg / total       0.84      0.84      0.84       418\n",
      "\n"
     ]
    }
   ],
   "source": [
    "from sklearn.ensemble import RandomForestClassifier\n",
    "classifier = RandomForestClassifier(n_estimators = 50, criterion = 'entropy')\n",
    "classifier.fit(X_train, y_train)\n",
    "y_actual_pred = classifier.predict(X_real_test)\n",
    "print(confusion_matrix(y_real_test, y_actual_pred))\n",
    "print(classification_report(y_real_test, y_actual_pred))"
   ]
  }
 ],
 "metadata": {
  "kernelspec": {
   "display_name": "Python 3",
   "language": "python",
   "name": "python3"
  },
  "language_info": {
   "codemirror_mode": {
    "name": "ipython",
    "version": 3
   },
   "file_extension": ".py",
   "mimetype": "text/x-python",
   "name": "python",
   "nbconvert_exporter": "python",
   "pygments_lexer": "ipython3",
   "version": "3.6.0"
  }
 },
 "nbformat": 4,
 "nbformat_minor": 2
}
