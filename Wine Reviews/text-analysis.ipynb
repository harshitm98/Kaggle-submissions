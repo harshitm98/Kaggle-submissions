{
 "cells": [
  {
   "cell_type": "code",
   "execution_count": 1,
   "metadata": {
    "_cell_guid": "b1076dfc-b9ad-4769-8c92-a6c4dae69d19",
    "_uuid": "8f2839f25d086af736a60e9eeb907d3b93b6e0e5"
   },
   "outputs": [
    {
     "data": {
      "text/html": [
       "<div>\n",
       "<style scoped>\n",
       "    .dataframe tbody tr th:only-of-type {\n",
       "        vertical-align: middle;\n",
       "    }\n",
       "\n",
       "    .dataframe tbody tr th {\n",
       "        vertical-align: top;\n",
       "    }\n",
       "\n",
       "    .dataframe thead th {\n",
       "        text-align: right;\n",
       "    }\n",
       "</style>\n",
       "<table border=\"1\" class=\"dataframe\">\n",
       "  <thead>\n",
       "    <tr style=\"text-align: right;\">\n",
       "      <th></th>\n",
       "      <th>Unnamed: 0</th>\n",
       "      <th>country</th>\n",
       "      <th>description</th>\n",
       "      <th>designation</th>\n",
       "      <th>points</th>\n",
       "      <th>price</th>\n",
       "      <th>province</th>\n",
       "      <th>region_1</th>\n",
       "      <th>region_2</th>\n",
       "      <th>variety</th>\n",
       "      <th>winery</th>\n",
       "    </tr>\n",
       "  </thead>\n",
       "  <tbody>\n",
       "    <tr>\n",
       "      <th>0</th>\n",
       "      <td>0</td>\n",
       "      <td>US</td>\n",
       "      <td>This tremendous 100% varietal wine hails from ...</td>\n",
       "      <td>Martha's Vineyard</td>\n",
       "      <td>96</td>\n",
       "      <td>235.0</td>\n",
       "      <td>California</td>\n",
       "      <td>Napa Valley</td>\n",
       "      <td>Napa</td>\n",
       "      <td>Cabernet Sauvignon</td>\n",
       "      <td>Heitz</td>\n",
       "    </tr>\n",
       "    <tr>\n",
       "      <th>1</th>\n",
       "      <td>1</td>\n",
       "      <td>Spain</td>\n",
       "      <td>Ripe aromas of fig, blackberry and cassis are ...</td>\n",
       "      <td>Carodorum Selección Especial Reserva</td>\n",
       "      <td>96</td>\n",
       "      <td>110.0</td>\n",
       "      <td>Northern Spain</td>\n",
       "      <td>Toro</td>\n",
       "      <td>NaN</td>\n",
       "      <td>Tinta de Toro</td>\n",
       "      <td>Bodega Carmen Rodríguez</td>\n",
       "    </tr>\n",
       "    <tr>\n",
       "      <th>2</th>\n",
       "      <td>2</td>\n",
       "      <td>US</td>\n",
       "      <td>Mac Watson honors the memory of a wine once ma...</td>\n",
       "      <td>Special Selected Late Harvest</td>\n",
       "      <td>96</td>\n",
       "      <td>90.0</td>\n",
       "      <td>California</td>\n",
       "      <td>Knights Valley</td>\n",
       "      <td>Sonoma</td>\n",
       "      <td>Sauvignon Blanc</td>\n",
       "      <td>Macauley</td>\n",
       "    </tr>\n",
       "    <tr>\n",
       "      <th>3</th>\n",
       "      <td>3</td>\n",
       "      <td>US</td>\n",
       "      <td>This spent 20 months in 30% new French oak, an...</td>\n",
       "      <td>Reserve</td>\n",
       "      <td>96</td>\n",
       "      <td>65.0</td>\n",
       "      <td>Oregon</td>\n",
       "      <td>Willamette Valley</td>\n",
       "      <td>Willamette Valley</td>\n",
       "      <td>Pinot Noir</td>\n",
       "      <td>Ponzi</td>\n",
       "    </tr>\n",
       "    <tr>\n",
       "      <th>4</th>\n",
       "      <td>4</td>\n",
       "      <td>France</td>\n",
       "      <td>This is the top wine from La Bégude, named aft...</td>\n",
       "      <td>La Brûlade</td>\n",
       "      <td>95</td>\n",
       "      <td>66.0</td>\n",
       "      <td>Provence</td>\n",
       "      <td>Bandol</td>\n",
       "      <td>NaN</td>\n",
       "      <td>Provence red blend</td>\n",
       "      <td>Domaine de la Bégude</td>\n",
       "    </tr>\n",
       "  </tbody>\n",
       "</table>\n",
       "</div>"
      ],
      "text/plain": [
       "   Unnamed: 0           ...                              winery\n",
       "0           0           ...                               Heitz\n",
       "1           1           ...             Bodega Carmen Rodríguez\n",
       "2           2           ...                            Macauley\n",
       "3           3           ...                               Ponzi\n",
       "4           4           ...                Domaine de la Bégude\n",
       "\n",
       "[5 rows x 11 columns]"
      ]
     },
     "execution_count": 1,
     "metadata": {},
     "output_type": "execute_result"
    }
   ],
   "source": [
    "import numpy as np \n",
    "import pandas as pd\n",
    "import matplotlib.pyplot as plt\n",
    "dataset = pd.read_csv('../input/winemag-data_first150k.csv')\n",
    "X = dataset.iloc[:, 2].values\n",
    "y = dataset.iloc[:, 4].values\n",
    "# Printing out the first 5 values of the array\n",
    "%matplotlib inline\n",
    "dataset.head()"
   ]
  },
  {
   "cell_type": "code",
   "execution_count": 2,
   "metadata": {
    "_uuid": "b416edbc3ab04a2c69ad4916eec71ee480a48647"
   },
   "outputs": [
    {
     "name": "stdout",
     "output_type": "stream",
     "text": [
      "[['tremendous', '100', 'varietal', 'wine', 'hail', 'oakville', 'age', 'three', 'years', 'oak', 'juicy', 'red-cherry', 'fruit', 'compel', 'hint', 'caramel', 'greet', 'palate', 'frame', 'elegant', 'fine', 'tannins', 'subtle', 'minty', 'tone', 'background', 'balance', 'reward', 'start', 'finish', 'years', 'ahead', 'develop', 'nuance', 'enjoy', '2022–2030'], ['ripe', 'aromas', 'fig', 'blackberry', 'cassis', 'soften', 'sweeten', 'slather', 'oaky', 'chocolate', 'vanilla', 'full', 'layer', 'intense', 'cushion', 'palate', 'rich', 'flavor', 'chocolaty', 'black', 'fruit', 'bake', 'spice', 'toasty', 'everlasting', 'finish', 'heady', 'ideally', 'balance', 'drink', '2023'], ['mac', 'watson', 'honor', 'memory', 'wine', 'make', 'mother', 'tremendously', 'delicious', 'balance', 'complex', 'botrytised', 'white', 'dark', 'gold', 'color', 'layer', 'toast', 'hazelnut', 'pear', 'compote', 'orange', 'peel', 'flavor', 'revel', 'succulence', '122', 'g/l', 'residual', 'sugar'], ['spend', '20', 'months', '30', 'new', 'french', 'oak', 'incorporate', 'fruit', 'ponzi', 'aurora', 'abetina', 'madrona', 'vineyards', 'among', 'others', 'aromatic', 'dense', 'toasty', 'deftly', 'blend', 'aromas', 'flavor', 'toast', 'cigar', 'box', 'blackberry', 'black', 'cherry', 'coffee', 'graphite', 'tannins', 'polish', 'fine', 'sheen', 'frame', 'finish', 'load', 'dark', 'chocolate', 'espresso', 'drink', '2032'], ['top', 'wine', 'la', 'bégude', 'name', 'highest', 'point', 'vineyard', '1200', 'feet', 'structure', 'density', 'considerable', 'acidity', 'still', 'calm', '18', 'months', 'wood', 'wine', 'develop', 'extra', 'richness', 'concentration', 'produce', 'tari', 'family', 'formerly', 'château', 'giscours', 'margaux', 'wine', 'make', 'age', 'drink', '2020']]\n"
     ]
    }
   ],
   "source": [
    "from nltk.tokenize import word_tokenize\n",
    "from nltk.corpus import stopwords\n",
    "from nltk.stem.wordnet import WordNetLemmatizer\n",
    "import re\n",
    "\n",
    "lem = WordNetLemmatizer()\n",
    "stop_words = set(stopwords.words(\"english\"))\n",
    "prog = re.compile(r'[^a-zA-Z0-9]')\n",
    "filtered = []\n",
    "\n",
    "for i in range(len(X)):\n",
    "    tokenized_sentence = word_tokenize(X[i])\n",
    "    filtered_sentence = []\n",
    "    for w in tokenized_sentence:\n",
    "        w = w.lower()\n",
    "        w = lem.lemmatize(w, \"v\")\n",
    "        if not prog.match(w):\n",
    "            if w not in stop_words:\n",
    "                filtered_sentence.append(w)\n",
    "    filtered.append(filtered_sentence)\n",
    "\n",
    "print(filtered[:5])"
   ]
  },
  {
   "cell_type": "code",
   "execution_count": 3,
   "metadata": {
    "_cell_guid": "79c7e3d0-c299-4dcb-8224-4455121ee9b0",
    "_uuid": "d629ff2d2480ee46fbb7e2d37f6b5fab8052498a"
   },
   "outputs": [
    {
     "data": {
      "image/png": "[encoded data removed]",
      "text/plain": [
       "<Figure size 432x288 with 1 Axes>"
      ]
     },
     "metadata": {},
     "output_type": "display_data"
    }
   ],
   "source": [
    "Review_count = dataset.groupby('points').count()\n",
    "plt.bar(Review_count.index.values, Review_count['description'])\n",
    "plt.xlabel('Review Points')\n",
    "plt.ylabel('Number of reviews')\n",
    "plt.show()"
   ]
  },
  {
   "cell_type": "code",
   "execution_count": 4,
   "metadata": {
    "_uuid": "0e10395163d441a09ee4854745e8fbda7369923d"
   },
   "outputs": [],
   "source": [
    "from sklearn.feature_extraction.text import CountVectorizer\n",
    "from nltk.tokenize import RegexpTokenizer\n",
    "token = RegexpTokenizer(r'[a-zA-Z0-9]+')\n",
    "cv = CountVectorizer(lowercase=True,stop_words='english',ngram_range = (1,1),tokenizer = token.tokenize)\n",
    "text_counts= cv.fit_transform(X)\n"
   ]
  },
  {
   "cell_type": "code",
   "execution_count": 5,
   "metadata": {
    "_uuid": "6f4dd86bfca054ec19cc7bcec06d91d6a275e10f"
   },
   "outputs": [],
   "source": [
    "from sklearn.model_selection import train_test_split\n",
    "X_train, X_test, y_train, y_test = train_test_split(\n",
    "    text_counts, y, test_size=0.3, random_state=0)"
   ]
  },
  {
   "cell_type": "code",
   "execution_count": 6,
   "metadata": {
    "_uuid": "f07a67fe3c0e9e054a81ca76c09c367dc83d3c5c"
   },
   "outputs": [
    {
     "name": "stdout",
     "output_type": "stream",
     "text": [
      "MultinomialNB Accuracy:  0.31286026634863845\n",
      "Mean Squared Error:  4.426246162680271\n"
     ]
    }
   ],
   "source": [
    "from sklearn.naive_bayes import MultinomialNB\n",
    "from sklearn.metrics import accuracy_score, mean_squared_error  \n",
    "clf = MultinomialNB().fit(X_train, y_train)\n",
    "y_pred = clf.predict(X_test)\n",
    "print(\"MultinomialNB Accuracy: \", accuracy_score(y_test, y_pred))\n",
    "print(\"Mean Squared Error: \", mean_squared_error(y_test, y_pred))"
   ]
  },
  {
   "cell_type": "markdown",
   "metadata": {
    "_uuid": "0b7df7b60177ca9373d5dd4f4dd6493b3358c493"
   },
   "source": [
    "## TD-IDF"
   ]
  },
  {
   "cell_type": "code",
   "execution_count": 7,
   "metadata": {
    "_uuid": "bfc12579e0ed662f8b9b7ce5de89cb4eff2162ae"
   },
   "outputs": [],
   "source": [
    "from sklearn.feature_extraction.text import TfidfVectorizer\n",
    "tf = TfidfVectorizer()\n",
    "text_tf = tf.fit_transform(X)\n"
   ]
  },
  {
   "cell_type": "code",
   "execution_count": 8,
   "metadata": {
    "_uuid": "bad137cd18428ef30e6a2613f8d19bcd29f5479c"
   },
   "outputs": [],
   "source": [
    "from sklearn.model_selection import train_test_split\n",
    "X_train, X_test, y_train, y_test = train_test_split(text_tf, y, test_size=0.3, random_state=0)"
   ]
  },
  {
   "cell_type": "code",
   "execution_count": 9,
   "metadata": {
    "_uuid": "4a52fcce6023725c2343b4b171956b18366b7ebf"
   },
   "outputs": [
    {
     "name": "stdout",
     "output_type": "stream",
     "text": [
      "MultinomialNB Accuracy:  0.22679387795666867\n",
      "Mean Squared Error:  6.449016100178891\n"
     ]
    }
   ],
   "source": [
    "from sklearn.naive_bayes import MultinomialNB\n",
    "from sklearn.metrics import accuracy_score, mean_squared_error  \n",
    "clf = MultinomialNB().fit(X_train, y_train)\n",
    "y_pred = clf.predict(X_test)\n",
    "print(\"MultinomialNB Accuracy: \", accuracy_score(y_test, y_pred))\n",
    "print(\"Mean Squared Error: \", mean_squared_error(y_test, y_pred))"
   ]
  }
 ],
 "metadata": {
  "kernelspec": {
   "display_name": "Python 3",
   "language": "python",
   "name": "python3"
  },
  "language_info": {
   "codemirror_mode": {
    "name": "ipython",
    "version": 3
   },
   "file_extension": ".py",
   "mimetype": "text/x-python",
   "name": "python",
   "nbconvert_exporter": "python",
   "pygments_lexer": "ipython3",
   "version": "3.6.6"
  }
 },
 "nbformat": 4,
 "nbformat_minor": 1
}
